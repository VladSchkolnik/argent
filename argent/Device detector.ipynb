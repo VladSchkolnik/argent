{
 "cells": [
  {
   "cell_type": "code",
   "execution_count": 1,
   "metadata": {},
   "outputs": [],
   "source": [
    "from device_db import *"
   ]
  },
  {
   "cell_type": "code",
   "execution_count": 4,
   "metadata": {},
   "outputs": [
    {
     "data": {
      "text/plain": [
       "{'core': {'type': 'local',\n",
       "  'module': 'artiq.coredevice.core',\n",
       "  'class': 'Core',\n",
       "  'arguments': {'host': '169.254.199.16', 'ref_period': 1e-09}},\n",
       " 'core_log': {'type': 'controller',\n",
       "  'host': '::1',\n",
       "  'port': 1068,\n",
       "  'command': 'aqctl_corelog -p {port} --bind {bind} 169.254.199.16'},\n",
       " 'core_cache': {'type': 'local',\n",
       "  'module': 'artiq.coredevice.cache',\n",
       "  'class': 'CoreCache'},\n",
       " 'core_dma': {'type': 'local',\n",
       "  'module': 'artiq.coredevice.dma',\n",
       "  'class': 'CoreDMA'},\n",
       " 'i2c_switch0': {'type': 'local',\n",
       "  'module': 'artiq.coredevice.i2c',\n",
       "  'class': 'PCA9548',\n",
       "  'arguments': {'address': 224}},\n",
       " 'i2c_switch1': {'type': 'local',\n",
       "  'module': 'artiq.coredevice.i2c',\n",
       "  'class': 'PCA9548',\n",
       "  'arguments': {'address': 226}},\n",
       " 'ttl0': {'type': 'local',\n",
       "  'module': 'artiq.coredevice.ttl',\n",
       "  'class': 'TTLInOut',\n",
       "  'arguments': {'channel': 0}},\n",
       " 'ttl1': {'type': 'local',\n",
       "  'module': 'artiq.coredevice.ttl',\n",
       "  'class': 'TTLInOut',\n",
       "  'arguments': {'channel': 1}},\n",
       " 'ttl2': {'type': 'local',\n",
       "  'module': 'artiq.coredevice.ttl',\n",
       "  'class': 'TTLInOut',\n",
       "  'arguments': {'channel': 2}},\n",
       " 'ttl3': {'type': 'local',\n",
       "  'module': 'artiq.coredevice.ttl',\n",
       "  'class': 'TTLInOut',\n",
       "  'arguments': {'channel': 3}},\n",
       " 'ttl4': {'type': 'local',\n",
       "  'module': 'artiq.coredevice.ttl',\n",
       "  'class': 'TTLInOut',\n",
       "  'arguments': {'channel': 4}},\n",
       " 'ttl5': {'type': 'local',\n",
       "  'module': 'artiq.coredevice.ttl',\n",
       "  'class': 'TTLInOut',\n",
       "  'arguments': {'channel': 5}},\n",
       " 'ttl6': {'type': 'local',\n",
       "  'module': 'artiq.coredevice.ttl',\n",
       "  'class': 'TTLInOut',\n",
       "  'arguments': {'channel': 6}},\n",
       " 'ttl7': {'type': 'local',\n",
       "  'module': 'artiq.coredevice.ttl',\n",
       "  'class': 'TTLInOut',\n",
       "  'arguments': {'channel': 7}},\n",
       " 'ttl8': {'type': 'local',\n",
       "  'module': 'artiq.coredevice.ttl',\n",
       "  'class': 'TTLInOut',\n",
       "  'arguments': {'channel': 8}},\n",
       " 'ttl9': {'type': 'local',\n",
       "  'module': 'artiq.coredevice.ttl',\n",
       "  'class': 'TTLInOut',\n",
       "  'arguments': {'channel': 9}},\n",
       " 'ttl10': {'type': 'local',\n",
       "  'module': 'artiq.coredevice.ttl',\n",
       "  'class': 'TTLInOut',\n",
       "  'arguments': {'channel': 10}},\n",
       " 'ttl11': {'type': 'local',\n",
       "  'module': 'artiq.coredevice.ttl',\n",
       "  'class': 'TTLInOut',\n",
       "  'arguments': {'channel': 11}},\n",
       " 'ttl12': {'type': 'local',\n",
       "  'module': 'artiq.coredevice.ttl',\n",
       "  'class': 'TTLInOut',\n",
       "  'arguments': {'channel': 14}},\n",
       " 'ttl13': {'type': 'local',\n",
       "  'module': 'artiq.coredevice.ttl',\n",
       "  'class': 'TTLInOut',\n",
       "  'arguments': {'channel': 15}},\n",
       " 'ttl14': {'type': 'local',\n",
       "  'module': 'artiq.coredevice.ttl',\n",
       "  'class': 'TTLInOut',\n",
       "  'arguments': {'channel': 12}},\n",
       " 'ttl15': {'type': 'local',\n",
       "  'module': 'artiq.coredevice.ttl',\n",
       "  'class': 'TTLInOut',\n",
       "  'arguments': {'channel': 13}},\n",
       " 'spi_urukul0': {'type': 'local',\n",
       "  'module': 'artiq.coredevice.spi2',\n",
       "  'class': 'SPIMaster',\n",
       "  'arguments': {'channel': 16}},\n",
       " 'ttl_urukul0_io_update': {'type': 'local',\n",
       "  'module': 'artiq.coredevice.ttl',\n",
       "  'class': 'TTLOut',\n",
       "  'arguments': {'channel': 17}},\n",
       " 'ttl_urukul0_sw0': {'type': 'local',\n",
       "  'module': 'artiq.coredevice.ttl',\n",
       "  'class': 'TTLOut',\n",
       "  'arguments': {'channel': 18}},\n",
       " 'ttl_urukul0_sw1': {'type': 'local',\n",
       "  'module': 'artiq.coredevice.ttl',\n",
       "  'class': 'TTLOut',\n",
       "  'arguments': {'channel': 19}},\n",
       " 'ttl_urukul0_sw2': {'type': 'local',\n",
       "  'module': 'artiq.coredevice.ttl',\n",
       "  'class': 'TTLOut',\n",
       "  'arguments': {'channel': 20}},\n",
       " 'ttl_urukul0_sw3': {'type': 'local',\n",
       "  'module': 'artiq.coredevice.ttl',\n",
       "  'class': 'TTLOut',\n",
       "  'arguments': {'channel': 21}},\n",
       " 'urukul0_cpld': {'type': 'local',\n",
       "  'module': 'artiq.coredevice.urukul',\n",
       "  'class': 'CPLD',\n",
       "  'arguments': {'spi_device': 'spi_urukul0',\n",
       "   'io_update_device': 'ttl_urukul0_io_update',\n",
       "   'refclk': 100000000.0,\n",
       "   'clk_sel': 1}},\n",
       " 'urukul0_ch0': {'type': 'local',\n",
       "  'module': 'artiq.coredevice.ad9912',\n",
       "  'class': 'AD9912',\n",
       "  'arguments': {'pll_n': 10,\n",
       "   'chip_select': 4,\n",
       "   'cpld_device': 'urukul0_cpld',\n",
       "   'sw_device': 'ttl_urukul0_sw0'}},\n",
       " 'urukul0_ch1': {'type': 'local',\n",
       "  'module': 'artiq.coredevice.ad9912',\n",
       "  'class': 'AD9912',\n",
       "  'arguments': {'pll_n': 10,\n",
       "   'chip_select': 5,\n",
       "   'cpld_device': 'urukul0_cpld',\n",
       "   'sw_device': 'ttl_urukul0_sw1'}},\n",
       " 'urukul0_ch2': {'type': 'local',\n",
       "  'module': 'artiq.coredevice.ad9912',\n",
       "  'class': 'AD9912',\n",
       "  'arguments': {'pll_n': 10,\n",
       "   'chip_select': 6,\n",
       "   'cpld_device': 'urukul0_cpld',\n",
       "   'sw_device': 'ttl_urukul0_sw2'}},\n",
       " 'urukul0_ch3': {'type': 'local',\n",
       "  'module': 'artiq.coredevice.ad9912',\n",
       "  'class': 'AD9912',\n",
       "  'arguments': {'pll_n': 10,\n",
       "   'chip_select': 7,\n",
       "   'cpld_device': 'urukul0_cpld',\n",
       "   'sw_device': 'ttl_urukul0_sw3'}},\n",
       " 'spi_sampler0_adc': {'type': 'local',\n",
       "  'module': 'artiq.coredevice.spi2',\n",
       "  'class': 'SPIMaster',\n",
       "  'arguments': {'channel': 22}},\n",
       " 'spi_sampler0_pgia': {'type': 'local',\n",
       "  'module': 'artiq.coredevice.spi2',\n",
       "  'class': 'SPIMaster',\n",
       "  'arguments': {'channel': 23}},\n",
       " 'spi_sampler0_cnv': {'type': 'local',\n",
       "  'module': 'artiq.coredevice.ttl',\n",
       "  'class': 'TTLOut',\n",
       "  'arguments': {'channel': 24}},\n",
       " 'sampler0': {'type': 'local',\n",
       "  'module': 'artiq.coredevice.sampler',\n",
       "  'class': 'Sampler',\n",
       "  'arguments': {'spi_adc_device': 'spi_sampler0_adc',\n",
       "   'spi_pgia_device': 'spi_sampler0_pgia',\n",
       "   'cnv_device': 'spi_sampler0_cnv'}},\n",
       " 'spi_zotino0': {'type': 'local',\n",
       "  'module': 'artiq.coredevice.spi2',\n",
       "  'class': 'SPIMaster',\n",
       "  'arguments': {'channel': 25}},\n",
       " 'ttl_zotino0_ldac': {'type': 'local',\n",
       "  'module': 'artiq.coredevice.ttl',\n",
       "  'class': 'TTLOut',\n",
       "  'arguments': {'channel': 26}},\n",
       " 'ttl_zotino0_clr': {'type': 'local',\n",
       "  'module': 'artiq.coredevice.ttl',\n",
       "  'class': 'TTLOut',\n",
       "  'arguments': {'channel': 27}},\n",
       " 'zotino0': {'type': 'local',\n",
       "  'module': 'artiq.coredevice.zotino',\n",
       "  'class': 'Zotino',\n",
       "  'arguments': {'spi_device': 'spi_zotino0',\n",
       "   'ldac_device': 'ttl_zotino0_ldac',\n",
       "   'clr_device': 'ttl_zotino0_clr'}},\n",
       " 'led0': {'type': 'local',\n",
       "  'module': 'artiq.coredevice.ttl',\n",
       "  'class': 'TTLOut',\n",
       "  'arguments': {'channel': 28}},\n",
       " 'led1': {'type': 'local',\n",
       "  'module': 'artiq.coredevice.ttl',\n",
       "  'class': 'TTLOut',\n",
       "  'arguments': {'channel': 29}}}"
      ]
     },
     "execution_count": 4,
     "metadata": {},
     "output_type": "execute_result"
    }
   ],
   "source": [
    "device_db"
   ]
  },
  {
   "cell_type": "code",
   "execution_count": 16,
   "metadata": {},
   "outputs": [],
   "source": [
    "def get_devices(module):\n",
    "    ''' Returns all devices of a given module from the device_db '''\n",
    "    devs = []\n",
    "    for key in device_db:\n",
    "        dev = device_db[key]\n",
    "        if 'module' in dev:\n",
    "            if dev['module'] == module:\n",
    "                devs.append(key)\n",
    "    return devs"
   ]
  },
  {
   "cell_type": "code",
   "execution_count": 18,
   "metadata": {},
   "outputs": [
    {
     "name": "stdout",
     "output_type": "stream",
     "text": [
      "['zotino0']\n"
     ]
    }
   ],
   "source": [
    "''' Extract DACs '''\n",
    "devs = get_devices('artiq.coredevice.zotino')\n",
    "print(devs)"
   ]
  },
  {
   "cell_type": "code",
   "execution_count": 17,
   "metadata": {},
   "outputs": [
    {
     "name": "stdout",
     "output_type": "stream",
     "text": [
      "['sampler0']\n"
     ]
    }
   ],
   "source": [
    "''' Extract ADCs '''\n",
    "devs = get_devices('artiq.coredevice.sampler')\n",
    "print(devs)"
   ]
  },
  {
   "cell_type": "code",
   "execution_count": 19,
   "metadata": {},
   "outputs": [
    {
     "name": "stdout",
     "output_type": "stream",
     "text": [
      "['ttl0', 'ttl1', 'ttl2', 'ttl3', 'ttl4', 'ttl5', 'ttl6', 'ttl7', 'ttl8', 'ttl9', 'ttl10', 'ttl11', 'ttl12', 'ttl13', 'ttl14', 'ttl15', 'ttl_urukul0_io_update', 'ttl_urukul0_sw0', 'ttl_urukul0_sw1', 'ttl_urukul0_sw2', 'ttl_urukul0_sw3', 'spi_sampler0_cnv', 'ttl_zotino0_ldac', 'ttl_zotino0_clr', 'led0', 'led1']\n"
     ]
    }
   ],
   "source": [
    "''' Extract TTLs '''\n",
    "devs = get_devices('artiq.coredevice.ttl')\n",
    "print(devs)"
   ]
  },
  {
   "cell_type": "code",
   "execution_count": 20,
   "metadata": {},
   "outputs": [
    {
     "name": "stdout",
     "output_type": "stream",
     "text": [
      "['urukul0_cpld']\n"
     ]
    }
   ],
   "source": [
    "''' Extract DDS '''\n",
    "devs = get_devices('artiq.coredevice.urukul')\n",
    "print(devs)"
   ]
  },
  {
   "cell_type": "code",
   "execution_count": null,
   "metadata": {},
   "outputs": [],
   "source": []
  }
 ],
 "metadata": {
  "kernelspec": {
   "display_name": "Python 3",
   "language": "python",
   "name": "python3"
  },
  "language_info": {
   "codemirror_mode": {
    "name": "ipython",
    "version": 3
   },
   "file_extension": ".py",
   "mimetype": "text/x-python",
   "name": "python",
   "nbconvert_exporter": "python",
   "pygments_lexer": "ipython3",
   "version": "3.7.0"
  }
 },
 "nbformat": 4,
 "nbformat_minor": 2
}
