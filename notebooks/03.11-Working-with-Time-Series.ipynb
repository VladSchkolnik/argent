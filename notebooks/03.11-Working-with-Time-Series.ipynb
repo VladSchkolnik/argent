{
  "cells": [
    {
      "cell_type": "markdown",
      "metadata": {
        "id": "nMQ7RokmMgw-"
      },
      "source": [
        "# Working with Time Series"
      ]
    },
    {
      "cell_type": "markdown",
      "metadata": {
        "id": "tS3Ps0l-Mgw_"
      },
      "source": [
        "Pandas was originally developed in the context of financial modeling, so as you might expect, it contains an extensive set of tools for working with dates, times, and time-indexed data.\n",
        "Date and time data comes in a few flavors, which we will discuss here:\n",
        "\n",
        "- *Timestamps* reference particular moments in time (e.g., July 4th, 2021 at 7:00 a.m.).\n",
        "- *Time intervals* and *periods* reference a length of time between a particular beginning and end point; for example, the month of June 2021. Periods usually reference a special case of time intervals in which each interval is of uniform length and does not overlap (e.g., 24-hour-long periods comprising days).\n",
        "- *Time deltas* or *durations* reference an exact length of time (e.g., a duration of 22.56 seconds).\n",
        "\n",
        "This chapter will introduce how to work with each of these types of date/time data in Pandas.\n",
        "This is by no means a complete guide to the time series tools available in Python or Pandas, but instead is intended as a broad overview of how you as a user should approach working with time series.\n",
        "We will start with a brief discussion of tools for dealing with dates and times in Python, before moving more specifically to a discussion of the tools provided by Pandas.\n",
        "After listing some resources that go into more depth, we will review some short examples of working with time series data in Pandas."
      ]
    },
    {
      "cell_type": "markdown",
      "metadata": {
        "id": "d-KFqDjiMgw_"
      },
      "source": [
        "## Dates and Times in Python\n",
        "\n",
        "The Python world has a number of available representations of dates, times, deltas, and time spans.\n",
        "While the time series tools provided by Pandas tend to be the most useful for data science applications, it is helpful to see their relationship to other tools used in Python."
      ]
    },
    {
      "cell_type": "markdown",
      "metadata": {
        "id": "8cFGAm9uMgw_"
      },
      "source": [
        "### Native Python Dates and Times: datetime and dateutil\n",
        "\n",
        "Python's basic objects for working with dates and times reside in the built-in `datetime` module.\n",
        "Along with the third-party `dateutil` module, you can use this to quickly perform a host of useful functionalities on dates and times.\n",
        "For example, you can manually build a date using the `datetime` type:"
      ]
    },
    {
      "cell_type": "code",
      "execution_count": 1,
      "metadata": {
        "jupyter": {
          "outputs_hidden": false
        },
        "id": "PCL0a-RuMgw_",
        "outputId": "de849739-348e-4c38-f745-418ea65d98a2",
        "colab": {
          "base_uri": "https://localhost:8080/"
        }
      },
      "outputs": [
        {
          "output_type": "execute_result",
          "data": {
            "text/plain": [
              "datetime.datetime(2021, 7, 4, 0, 0)"
            ]
          },
          "metadata": {},
          "execution_count": 1
        }
      ],
      "source": [
        "from datetime import datetime\n",
        "datetime(year=2021, month=7, day=4)"
      ]
    },
    {
      "cell_type": "markdown",
      "metadata": {
        "id": "DTLfJzwhMgxA"
      },
      "source": [
        "Or, using the `dateutil` module, you can parse dates from a variety of string formats:"
      ]
    },
    {
      "cell_type": "code",
      "execution_count": 2,
      "metadata": {
        "jupyter": {
          "outputs_hidden": false
        },
        "id": "ZrCZaNHSMgxA",
        "outputId": "0a0d44fb-9a6e-447a-f051-f0a1b942eb89",
        "colab": {
          "base_uri": "https://localhost:8080/"
        }
      },
      "outputs": [
        {
          "output_type": "execute_result",
          "data": {
            "text/plain": [
              "datetime.datetime(2021, 7, 4, 0, 0)"
            ]
          },
          "metadata": {},
          "execution_count": 2
        }
      ],
      "source": [
        "from dateutil import parser\n",
        "date = parser.parse(\"4th of July, 2021\")\n",
        "date"
      ]
    },
    {
      "cell_type": "markdown",
      "metadata": {
        "id": "WOloeKatMgxA"
      },
      "source": [
        "Once you have a `datetime` object, you can do things like printing the day of the week:"
      ]
    },
    {
      "cell_type": "code",
      "execution_count": 3,
      "metadata": {
        "jupyter": {
          "outputs_hidden": false
        },
        "id": "QYeXEAqmMgxB",
        "outputId": "1ae8372a-2e24-4eb8-e39e-01fb0b872a8d",
        "colab": {
          "base_uri": "https://localhost:8080/",
          "height": 36
        }
      },
      "outputs": [
        {
          "output_type": "execute_result",
          "data": {
            "text/plain": [
              "'Sunday'"
            ],
            "application/vnd.google.colaboratory.intrinsic+json": {
              "type": "string"
            }
          },
          "metadata": {},
          "execution_count": 3
        }
      ],
      "source": [
        "date.strftime('%A')"
      ]
    },
    {
      "cell_type": "markdown",
      "metadata": {
        "id": "7RU6L9K0MgxB"
      },
      "source": [
        "Here we've used one of the standard string format codes for printing dates (`'%A'`), which you can read about in the [`strftime` section](https://docs.python.org/3/library/datetime.html#strftime-and-strptime-behavior) of Python's [`datetime` documentation](https://docs.python.org/3/library/datetime.html).\n",
        "Documentation of other useful date utilities can be found in [``dateutil``'s online documentation](http://labix.org/python-dateutil).\n",
        "A related package to be aware of is [`pytz`](http://pytz.sourceforge.net/), which contains tools for working with the most migraine-inducing element of time series data: time zones.\n",
        "\n",
        "The power of `datetime` and `dateutil` lies in their flexibility and easy syntax: you can use these objects and their built-in methods to easily perform nearly any operation you might be interested in.\n",
        "Where they break down is when you wish to work with large arrays of dates and times:\n",
        "just as lists of Python numerical variables are suboptimal compared to NumPy-style typed numerical arrays, lists of Python `datetime` objects are suboptimal compared to typed arrays of encoded dates."
      ]
    },
    {
      "cell_type": "markdown",
      "metadata": {
        "id": "jDMOTAe7MgxB"
      },
      "source": [
        "### Typed Arrays of Times: NumPy's datetime64\n",
        "\n",
        "NumPy's `datetime64` dtype encodes dates as 64-bit integers, and thus allows arrays of dates to be represented compactly and operated on in an efficient manner.\n",
        "The `datetime64` requires a specific input format:"
      ]
    },
    {
      "cell_type": "code",
      "execution_count": 4,
      "metadata": {
        "jupyter": {
          "outputs_hidden": false
        },
        "id": "pOBG-ciaMgxB",
        "outputId": "b9743928-6417-4c5f-c25b-05c49b748c1c",
        "colab": {
          "base_uri": "https://localhost:8080/"
        }
      },
      "outputs": [
        {
          "output_type": "execute_result",
          "data": {
            "text/plain": [
              "array('2021-07-04', dtype='datetime64[D]')"
            ]
          },
          "metadata": {},
          "execution_count": 4
        }
      ],
      "source": [
        "import numpy as np\n",
        "date = np.array('2021-07-04', dtype=np.datetime64)\n",
        "date"
      ]
    },
    {
      "cell_type": "markdown",
      "metadata": {
        "id": "fYgVkAl9MgxB"
      },
      "source": [
        "Once we have dates in this form, we can quickly do vectorized operations on it:"
      ]
    },
    {
      "cell_type": "code",
      "execution_count": 5,
      "metadata": {
        "jupyter": {
          "outputs_hidden": false
        },
        "id": "ZKRcMqArMgxB",
        "outputId": "63a730fa-ff9c-4e54-dbe3-06c845a85ce3",
        "colab": {
          "base_uri": "https://localhost:8080/"
        }
      },
      "outputs": [
        {
          "output_type": "execute_result",
          "data": {
            "text/plain": [
              "array(['2021-07-04', '2021-07-05', '2021-07-06', '2021-07-07',\n",
              "       '2021-07-08', '2021-07-09', '2021-07-10', '2021-07-11',\n",
              "       '2021-07-12', '2021-07-13', '2021-07-14', '2021-07-15'],\n",
              "      dtype='datetime64[D]')"
            ]
          },
          "metadata": {},
          "execution_count": 5
        }
      ],
      "source": [
        "date + np.arange(12)"
      ]
    },
    {
      "cell_type": "markdown",
      "metadata": {
        "id": "4Zfp5q1YMgxB"
      },
      "source": [
        "Because of the uniform type in NumPy `datetime64` arrays, this kind of operation can be accomplished much more quickly than if we were working directly with Python's `datetime` objects, especially as arrays get large\n",
        "(we introduced this type of vectorization in [Computation on NumPy Arrays: Universal Functions](02.03-Computation-on-arrays-ufuncs.ipynb)).\n",
        "\n",
        "One detail of the `datetime64` and related `timedelta64` objects is that they are built on a *fundamental time unit*.\n",
        "Because the `datetime64` object is limited to 64-bit precision, the range of encodable times is $2^{64}$ times this fundamental unit.\n",
        "In other words, `datetime64` imposes a trade-off between *time resolution* and *maximum time span*.\n",
        "\n",
        "For example, if you want a time resolution of 1 nanosecond, you only have enough information to encode a range of $2^{64}$ nanoseconds, or just under 600 years.\n",
        "NumPy will infer the desired unit from the input; for example, here is a day-based `datetime`:"
      ]
    },
    {
      "cell_type": "code",
      "execution_count": 6,
      "metadata": {
        "jupyter": {
          "outputs_hidden": false
        },
        "id": "d-0NEH0VMgxB",
        "outputId": "60124cef-331f-4fe0-c3b4-337834840a66",
        "colab": {
          "base_uri": "https://localhost:8080/"
        }
      },
      "outputs": [
        {
          "output_type": "execute_result",
          "data": {
            "text/plain": [
              "np.datetime64('2021-07-04')"
            ]
          },
          "metadata": {},
          "execution_count": 6
        }
      ],
      "source": [
        "np.datetime64('2021-07-04')"
      ]
    },
    {
      "cell_type": "markdown",
      "metadata": {
        "id": "QJ1Y0ycPMgxB"
      },
      "source": [
        "Here is a minute-based datetime:"
      ]
    },
    {
      "cell_type": "code",
      "execution_count": 7,
      "metadata": {
        "jupyter": {
          "outputs_hidden": false
        },
        "id": "f6SJ5CS2MgxB",
        "outputId": "1b9c9ce6-97d6-47da-aedf-2ac6675a7df2",
        "colab": {
          "base_uri": "https://localhost:8080/"
        }
      },
      "outputs": [
        {
          "output_type": "execute_result",
          "data": {
            "text/plain": [
              "np.datetime64('2021-07-04T12:00')"
            ]
          },
          "metadata": {},
          "execution_count": 7
        }
      ],
      "source": [
        "np.datetime64('2021-07-04 12:00')"
      ]
    },
    {
      "cell_type": "markdown",
      "metadata": {
        "id": "TqMfQ2WUMgxB"
      },
      "source": [
        "You can force any desired fundamental unit using one of many format codes; for example, here we'll force a nanosecond-based time:"
      ]
    },
    {
      "cell_type": "code",
      "execution_count": 8,
      "metadata": {
        "jupyter": {
          "outputs_hidden": false
        },
        "id": "Im8KFQ7TMgxB",
        "outputId": "fbc26e2b-7a04-4467-8802-1007609405d8",
        "colab": {
          "base_uri": "https://localhost:8080/"
        }
      },
      "outputs": [
        {
          "output_type": "execute_result",
          "data": {
            "text/plain": [
              "np.datetime64('2021-07-04T12:59:59.500000000')"
            ]
          },
          "metadata": {},
          "execution_count": 8
        }
      ],
      "source": [
        "np.datetime64('2021-07-04 12:59:59.50', 'ns')"
      ]
    },
    {
      "cell_type": "markdown",
      "metadata": {
        "id": "7bG_2FkKMgxB"
      },
      "source": [
        "The following table, drawn from the NumPy `datetime64` documentation, lists the available format codes along with the relative and absolute time spans that they can encode:"
      ]
    },
    {
      "cell_type": "markdown",
      "metadata": {
        "id": "2RlDYk7sMgxC"
      },
      "source": [
        "|Code  | Meaning     | Time span (relative) | Time span (absolute)   |\n",
        "|------|-------------|----------------------|------------------------|\n",
        "| `Y`  | Year        | ± 9.2e18 years       | [9.2e18 BC, 9.2e18 AD] |\n",
        "| `M`  | Month       | ± 7.6e17 years       | [7.6e17 BC, 7.6e17 AD] |\n",
        "| `W`  | Week        | ± 1.7e17 years       | [1.7e17 BC, 1.7e17 AD] |\n",
        "| `D`  | Day         | ± 2.5e16 years       | [2.5e16 BC, 2.5e16 AD] |\n",
        "| `h`  | Hour        | ± 1.0e15 years       | [1.0e15 BC, 1.0e15 AD] |\n",
        "| `m`  | Minute      | ± 1.7e13 years       | [1.7e13 BC, 1.7e13 AD] |\n",
        "| `s`  | Second      | ± 2.9e12 years       | [ 2.9e9 BC, 2.9e9 AD]  |\n",
        "| `ms` | Millisecond | ± 2.9e9 years        | [ 2.9e6 BC, 2.9e6 AD]  |\n",
        "| `us` | Microsecond | ± 2.9e6 years        | [290301 BC, 294241 AD] |\n",
        "| `ns` | Nanosecond  | ± 292 years          | [ 1678 AD, 2262 AD]    |\n",
        "| `ps` | Picosecond  | ± 106 days           | [ 1969 AD, 1970 AD]    |\n",
        "| `fs` | Femtosecond | ± 2.6 hours          | [ 1969 AD, 1970 AD]    |\n",
        "| `as` | Attosecond  | ± 9.2 seconds        | [ 1969 AD, 1970 AD]    |"
      ]
    },
    {
      "cell_type": "markdown",
      "metadata": {
        "id": "0Xb_hiQmMgxC"
      },
      "source": [
        "For the types of data we see in the real world, a useful default is `datetime64[ns]`, as it can encode a useful range of modern dates with a suitably fine precision.\n",
        "\n",
        "Finally, note that while the `datetime64` data type addresses some of the deficiencies of the built-in Python `datetime` type, it lacks many of the convenient methods and functions provided by `datetime` and especially `dateutil`.\n",
        "More information can be found in [NumPy's `datetime64` documentation](http://docs.scipy.org/doc/numpy/reference/arrays.datetime.html)."
      ]
    },
    {
      "cell_type": "markdown",
      "metadata": {
        "id": "_1YuSGsSMgxC"
      },
      "source": [
        "### Dates and Times in Pandas: The Best of Both Worlds\n",
        "\n",
        "Pandas builds upon all the tools just discussed to provide a `Timestamp` object, which combines the ease of use of `datetime` and `dateutil` with the efficient storage and vectorized interface of `numpy.datetime64`.\n",
        "From a group of these `Timestamp` objects, Pandas can construct a `DatetimeIndex` that can be used to index data in a `Series` or `DataFrame`.\n",
        "\n",
        "For example, we can use Pandas tools to repeat the demonstration from earlier.\n",
        "We can parse a flexibly formatted string date and use format codes to output the day of the week, as follows:"
      ]
    },
    {
      "cell_type": "code",
      "execution_count": 9,
      "metadata": {
        "jupyter": {
          "outputs_hidden": false
        },
        "id": "S7ljQJPDMgxC",
        "outputId": "fa903a49-6309-4919-8f66-2318bb61eb02",
        "colab": {
          "base_uri": "https://localhost:8080/"
        }
      },
      "outputs": [
        {
          "output_type": "execute_result",
          "data": {
            "text/plain": [
              "Timestamp('2021-07-04 00:00:00')"
            ]
          },
          "metadata": {},
          "execution_count": 9
        }
      ],
      "source": [
        "import pandas as pd\n",
        "date = pd.to_datetime(\"4th of July, 2021\")\n",
        "date"
      ]
    },
    {
      "cell_type": "code",
      "execution_count": 10,
      "metadata": {
        "jupyter": {
          "outputs_hidden": false
        },
        "id": "J7iZWFLGMgxC",
        "outputId": "ee77252b-2547-4b10-96da-1a1b0c625c60",
        "colab": {
          "base_uri": "https://localhost:8080/",
          "height": 36
        }
      },
      "outputs": [
        {
          "output_type": "execute_result",
          "data": {
            "text/plain": [
              "'Sunday'"
            ],
            "application/vnd.google.colaboratory.intrinsic+json": {
              "type": "string"
            }
          },
          "metadata": {},
          "execution_count": 10
        }
      ],
      "source": [
        "date.strftime('%A')"
      ]
    },
    {
      "cell_type": "markdown",
      "metadata": {
        "id": "xN-MOza5MgxC"
      },
      "source": [
        "Additionally, we can do NumPy-style vectorized operations directly on this same object:"
      ]
    },
    {
      "cell_type": "code",
      "execution_count": 11,
      "metadata": {
        "jupyter": {
          "outputs_hidden": false
        },
        "id": "BdApen6YMgxC",
        "outputId": "2968a55e-cfe7-462b-b868-17cff5ecec24",
        "colab": {
          "base_uri": "https://localhost:8080/"
        }
      },
      "outputs": [
        {
          "output_type": "execute_result",
          "data": {
            "text/plain": [
              "DatetimeIndex(['2021-07-04', '2021-07-05', '2021-07-06', '2021-07-07',\n",
              "               '2021-07-08', '2021-07-09', '2021-07-10', '2021-07-11',\n",
              "               '2021-07-12', '2021-07-13', '2021-07-14', '2021-07-15'],\n",
              "              dtype='datetime64[ns]', freq=None)"
            ]
          },
          "metadata": {},
          "execution_count": 11
        }
      ],
      "source": [
        "date + pd.to_timedelta(np.arange(12), 'D')"
      ]
    },
    {
      "cell_type": "markdown",
      "metadata": {
        "id": "ouOn1LWVMgxC"
      },
      "source": [
        "In the next section, we will take a closer look at manipulating time series data with the tools provided by Pandas."
      ]
    },
    {
      "cell_type": "markdown",
      "metadata": {
        "id": "OK-4qiEKMgxC"
      },
      "source": [
        "## Pandas Time Series: Indexing by Time\n",
        "\n",
        "The Pandas time series tools really become useful when you begin to index data by timestamps.\n",
        "For example, we can construct a `Series` object that has time-indexed data:"
      ]
    },
    {
      "cell_type": "code",
      "execution_count": 12,
      "metadata": {
        "jupyter": {
          "outputs_hidden": false
        },
        "id": "t45pyWLuMgxC",
        "outputId": "b2ef90b2-2274-405c-8fe0-6b4aa7046370",
        "colab": {
          "base_uri": "https://localhost:8080/",
          "height": 209
        }
      },
      "outputs": [
        {
          "output_type": "execute_result",
          "data": {
            "text/plain": [
              "2020-07-04    0\n",
              "2020-08-04    1\n",
              "2021-07-04    2\n",
              "2021-08-04    3\n",
              "dtype: int64"
            ],
            "text/html": [
              "<div>\n",
              "<style scoped>\n",
              "    .dataframe tbody tr th:only-of-type {\n",
              "        vertical-align: middle;\n",
              "    }\n",
              "\n",
              "    .dataframe tbody tr th {\n",
              "        vertical-align: top;\n",
              "    }\n",
              "\n",
              "    .dataframe thead th {\n",
              "        text-align: right;\n",
              "    }\n",
              "</style>\n",
              "<table border=\"1\" class=\"dataframe\">\n",
              "  <thead>\n",
              "    <tr style=\"text-align: right;\">\n",
              "      <th></th>\n",
              "      <th>0</th>\n",
              "    </tr>\n",
              "  </thead>\n",
              "  <tbody>\n",
              "    <tr>\n",
              "      <th>2020-07-04</th>\n",
              "      <td>0</td>\n",
              "    </tr>\n",
              "    <tr>\n",
              "      <th>2020-08-04</th>\n",
              "      <td>1</td>\n",
              "    </tr>\n",
              "    <tr>\n",
              "      <th>2021-07-04</th>\n",
              "      <td>2</td>\n",
              "    </tr>\n",
              "    <tr>\n",
              "      <th>2021-08-04</th>\n",
              "      <td>3</td>\n",
              "    </tr>\n",
              "  </tbody>\n",
              "</table>\n",
              "</div><br><label><b>dtype:</b> int64</label>"
            ]
          },
          "metadata": {},
          "execution_count": 12
        }
      ],
      "source": [
        "index = pd.DatetimeIndex(['2020-07-04', '2020-08-04',\n",
        "                          '2021-07-04', '2021-08-04'])\n",
        "data = pd.Series([0, 1, 2, 3], index=index)\n",
        "data"
      ]
    },
    {
      "cell_type": "markdown",
      "metadata": {
        "id": "Z9j_z8QqMgxC"
      },
      "source": [
        "And now that we have this data in a `Series`, we can make use of any of the `Series` indexing patterns we discussed in previous chapters, passing values that can be coerced into dates:"
      ]
    },
    {
      "cell_type": "code",
      "execution_count": 13,
      "metadata": {
        "jupyter": {
          "outputs_hidden": false
        },
        "id": "MdRg8kdkMgxC",
        "outputId": "2328a5e7-c42f-4b83-9fa5-3b7e6e237b31",
        "colab": {
          "base_uri": "https://localhost:8080/",
          "height": 178
        }
      },
      "outputs": [
        {
          "output_type": "execute_result",
          "data": {
            "text/plain": [
              "2020-07-04    0\n",
              "2020-08-04    1\n",
              "2021-07-04    2\n",
              "dtype: int64"
            ],
            "text/html": [
              "<div>\n",
              "<style scoped>\n",
              "    .dataframe tbody tr th:only-of-type {\n",
              "        vertical-align: middle;\n",
              "    }\n",
              "\n",
              "    .dataframe tbody tr th {\n",
              "        vertical-align: top;\n",
              "    }\n",
              "\n",
              "    .dataframe thead th {\n",
              "        text-align: right;\n",
              "    }\n",
              "</style>\n",
              "<table border=\"1\" class=\"dataframe\">\n",
              "  <thead>\n",
              "    <tr style=\"text-align: right;\">\n",
              "      <th></th>\n",
              "      <th>0</th>\n",
              "    </tr>\n",
              "  </thead>\n",
              "  <tbody>\n",
              "    <tr>\n",
              "      <th>2020-07-04</th>\n",
              "      <td>0</td>\n",
              "    </tr>\n",
              "    <tr>\n",
              "      <th>2020-08-04</th>\n",
              "      <td>1</td>\n",
              "    </tr>\n",
              "    <tr>\n",
              "      <th>2021-07-04</th>\n",
              "      <td>2</td>\n",
              "    </tr>\n",
              "  </tbody>\n",
              "</table>\n",
              "</div><br><label><b>dtype:</b> int64</label>"
            ]
          },
          "metadata": {},
          "execution_count": 13
        }
      ],
      "source": [
        "data['2020-07-04':'2021-07-04']"
      ]
    },
    {
      "cell_type": "markdown",
      "metadata": {
        "id": "bwaL2Z6lMgxC"
      },
      "source": [
        "There are additional special date-only indexing operations, such as passing a year to obtain a slice of all data from that year:"
      ]
    },
    {
      "cell_type": "code",
      "execution_count": 14,
      "metadata": {
        "jupyter": {
          "outputs_hidden": false
        },
        "id": "DDCyO8ijMgxC",
        "outputId": "6d36b6cf-3c2b-4489-85a5-21979277b7db",
        "colab": {
          "base_uri": "https://localhost:8080/",
          "height": 147
        }
      },
      "outputs": [
        {
          "output_type": "execute_result",
          "data": {
            "text/plain": [
              "2021-07-04    2\n",
              "2021-08-04    3\n",
              "dtype: int64"
            ],
            "text/html": [
              "<div>\n",
              "<style scoped>\n",
              "    .dataframe tbody tr th:only-of-type {\n",
              "        vertical-align: middle;\n",
              "    }\n",
              "\n",
              "    .dataframe tbody tr th {\n",
              "        vertical-align: top;\n",
              "    }\n",
              "\n",
              "    .dataframe thead th {\n",
              "        text-align: right;\n",
              "    }\n",
              "</style>\n",
              "<table border=\"1\" class=\"dataframe\">\n",
              "  <thead>\n",
              "    <tr style=\"text-align: right;\">\n",
              "      <th></th>\n",
              "      <th>0</th>\n",
              "    </tr>\n",
              "  </thead>\n",
              "  <tbody>\n",
              "    <tr>\n",
              "      <th>2021-07-04</th>\n",
              "      <td>2</td>\n",
              "    </tr>\n",
              "    <tr>\n",
              "      <th>2021-08-04</th>\n",
              "      <td>3</td>\n",
              "    </tr>\n",
              "  </tbody>\n",
              "</table>\n",
              "</div><br><label><b>dtype:</b> int64</label>"
            ]
          },
          "metadata": {},
          "execution_count": 14
        }
      ],
      "source": [
        "data['2021']"
      ]
    },
    {
      "cell_type": "markdown",
      "metadata": {
        "id": "fya0mTaXMgxC"
      },
      "source": [
        "Later, we will see additional examples of the convenience of dates-as-indices.\n",
        "But first, let's take a closer look at the available time series data structures."
      ]
    },
    {
      "cell_type": "markdown",
      "metadata": {
        "id": "b2UpFOxiMgxC"
      },
      "source": [
        "## Pandas Time Series Data Structures\n",
        "\n",
        "This section will introduce the fundamental Pandas data structures for working with time series data:\n",
        "\n",
        "- For *timestamps*, Pandas provides the `Timestamp` type. As mentioned before, this is essentially a replacement for Python's native `datetime`, but it's based on the more efficient `numpy.datetime64` data type. The associated `Index` structure is `DatetimeIndex`.\n",
        "- For *time periods*, Pandas provides the `Period` type. This encodes a fixed-frequency interval based on `numpy.datetime64`. The associated index structure is `PeriodIndex`.\n",
        "- For *time deltas* or *durations*, Pandas provides the `Timedelta` type. `Timedelta` is a more efficient replacement for Python's native `datetime.timedelta` type, and is based on `numpy.timedelta64`. The associated index structure is `TimedeltaIndex`."
      ]
    },
    {
      "cell_type": "markdown",
      "metadata": {
        "id": "NfJWqDpTMgxC"
      },
      "source": [
        "The most fundamental of these date/time objects are the `Timestamp` and `DatetimeIndex` objects.\n",
        "While these class objects can be invoked directly, it is more common to use the `pd.to_datetime` function, which can parse a wide variety of formats.\n",
        "Passing a single date to `pd.to_datetime` yields a `Timestamp`; passing a series of dates by default yields a `DatetimeIndex`, as you can see here:"
      ]
    },
    {
      "cell_type": "code",
      "execution_count": 15,
      "metadata": {
        "jupyter": {
          "outputs_hidden": false
        },
        "id": "SMfIyQgrMgxD",
        "outputId": "a17a7621-6363-4f76-e967-a49895cfaddd",
        "colab": {
          "base_uri": "https://localhost:8080/"
        }
      },
      "outputs": [
        {
          "output_type": "execute_result",
          "data": {
            "text/plain": [
              "DatetimeIndex(['2021-07-03', '2021-07-04', '2021-07-06', '2021-07-07',\n",
              "               '2021-07-08'],\n",
              "              dtype='datetime64[ns]', freq=None)"
            ]
          },
          "metadata": {},
          "execution_count": 15
        }
      ],
      "source": [
        "dates = pd.to_datetime([datetime(2021, 7, 3), '4th of July, 2021',\n",
        "                       '2021-Jul-6', '07-07-2021', '20210708'])\n",
        "dates"
      ]
    },
    {
      "cell_type": "markdown",
      "metadata": {
        "id": "rd1bgze8MgxK"
      },
      "source": [
        "Any `DatetimeIndex` can be converted to a `PeriodIndex` with the `to_period` function, with the addition of a frequency code; here we'll use `'D'` to indicate daily frequency:"
      ]
    },
    {
      "cell_type": "code",
      "execution_count": 16,
      "metadata": {
        "jupyter": {
          "outputs_hidden": false
        },
        "id": "3TUgDX4eMgxK",
        "outputId": "3238d43d-bc0a-4079-860b-a318f63a0600",
        "colab": {
          "base_uri": "https://localhost:8080/"
        }
      },
      "outputs": [
        {
          "output_type": "execute_result",
          "data": {
            "text/plain": [
              "PeriodIndex(['2021-07-03', '2021-07-04', '2021-07-06', '2021-07-07',\n",
              "             '2021-07-08'],\n",
              "            dtype='period[D]')"
            ]
          },
          "metadata": {},
          "execution_count": 16
        }
      ],
      "source": [
        "dates.to_period('D')"
      ]
    },
    {
      "cell_type": "markdown",
      "metadata": {
        "id": "xL47qGPlMgxK"
      },
      "source": [
        "A `TimedeltaIndex` is created, for example, when a date is subtracted from another:"
      ]
    },
    {
      "cell_type": "code",
      "execution_count": 17,
      "metadata": {
        "jupyter": {
          "outputs_hidden": false
        },
        "id": "rkFEfX6kMgxK",
        "outputId": "41db91b5-fda6-4c87-d1f3-53ae928e3372",
        "colab": {
          "base_uri": "https://localhost:8080/"
        }
      },
      "outputs": [
        {
          "output_type": "execute_result",
          "data": {
            "text/plain": [
              "TimedeltaIndex(['0 days', '1 days', '3 days', '4 days', '5 days'], dtype='timedelta64[ns]', freq=None)"
            ]
          },
          "metadata": {},
          "execution_count": 17
        }
      ],
      "source": [
        "dates - dates[0]"
      ]
    },
    {
      "cell_type": "markdown",
      "metadata": {
        "id": "UmJ3pHuiMgxK"
      },
      "source": [
        "## Regular Sequences: pd.date_range\n",
        "\n",
        "To make creation of regular date sequences more convenient, Pandas offers a few functions for this purpose: `pd.date_range` for timestamps, `pd.period_range` for periods, and `pd.timedelta_range` for time deltas.\n",
        "We've seen that Python's `range` and NumPy's `np.arange` take a start point, end point, and optional step size and return a sequence.\n",
        "Similarly, `pd.date_range` accepts a start date, an end date, and an optional frequency code to create a regular sequence of dates:"
      ]
    },
    {
      "cell_type": "code",
      "execution_count": 18,
      "metadata": {
        "jupyter": {
          "outputs_hidden": false
        },
        "id": "YggyJxLRMgxK",
        "outputId": "f99355d4-b109-4bd7-c736-24f73029b1f6",
        "colab": {
          "base_uri": "https://localhost:8080/"
        }
      },
      "outputs": [
        {
          "output_type": "execute_result",
          "data": {
            "text/plain": [
              "DatetimeIndex(['2015-07-03', '2015-07-04', '2015-07-05', '2015-07-06',\n",
              "               '2015-07-07', '2015-07-08', '2015-07-09', '2015-07-10'],\n",
              "              dtype='datetime64[ns]', freq='D')"
            ]
          },
          "metadata": {},
          "execution_count": 18
        }
      ],
      "source": [
        "pd.date_range('2015-07-03', '2015-07-10')"
      ]
    },
    {
      "cell_type": "markdown",
      "metadata": {
        "id": "24jDsjQaMgxK"
      },
      "source": [
        "Alternatively, the date range can be specified not with a start and end point, but with a start point and a number of periods:"
      ]
    },
    {
      "cell_type": "code",
      "execution_count": 19,
      "metadata": {
        "jupyter": {
          "outputs_hidden": false
        },
        "id": "EbkNgdz0MgxK",
        "outputId": "301f4688-b295-45a8-b6a0-29422a095c8c",
        "colab": {
          "base_uri": "https://localhost:8080/"
        }
      },
      "outputs": [
        {
          "output_type": "execute_result",
          "data": {
            "text/plain": [
              "DatetimeIndex(['2015-07-03', '2015-07-04', '2015-07-05', '2015-07-06',\n",
              "               '2015-07-07', '2015-07-08', '2015-07-09', '2015-07-10'],\n",
              "              dtype='datetime64[ns]', freq='D')"
            ]
          },
          "metadata": {},
          "execution_count": 19
        }
      ],
      "source": [
        "pd.date_range('2015-07-03', periods=8)"
      ]
    },
    {
      "cell_type": "markdown",
      "metadata": {
        "id": "87TaVNtOMgxK"
      },
      "source": [
        "The spacing can be modified by altering the `freq` argument, which defaults to `D`.\n",
        "For example, here we construct a range of hourly timestamps:"
      ]
    },
    {
      "cell_type": "code",
      "execution_count": 20,
      "metadata": {
        "jupyter": {
          "outputs_hidden": false
        },
        "id": "iktqtdBwMgxK",
        "outputId": "e394827e-9ff7-4149-dd77-2262592d2cfa",
        "colab": {
          "base_uri": "https://localhost:8080/"
        }
      },
      "outputs": [
        {
          "output_type": "stream",
          "name": "stderr",
          "text": [
            "/tmp/ipython-input-3521404607.py:1: FutureWarning: 'H' is deprecated and will be removed in a future version, please use 'h' instead.\n",
            "  pd.date_range('2015-07-03', periods=8, freq='H')\n"
          ]
        },
        {
          "output_type": "execute_result",
          "data": {
            "text/plain": [
              "DatetimeIndex(['2015-07-03 00:00:00', '2015-07-03 01:00:00',\n",
              "               '2015-07-03 02:00:00', '2015-07-03 03:00:00',\n",
              "               '2015-07-03 04:00:00', '2015-07-03 05:00:00',\n",
              "               '2015-07-03 06:00:00', '2015-07-03 07:00:00'],\n",
              "              dtype='datetime64[ns]', freq='h')"
            ]
          },
          "metadata": {},
          "execution_count": 20
        }
      ],
      "source": [
        "pd.date_range('2015-07-03', periods=8, freq='H')"
      ]
    },
    {
      "cell_type": "markdown",
      "metadata": {
        "id": "MwBiR6i-MgxK"
      },
      "source": [
        "To create regular sequences of `Period` or `Timedelta` values, the similar `pd.period_range` and `pd.timedelta_range` functions are useful.\n",
        "Here are some monthly periods:"
      ]
    },
    {
      "cell_type": "code",
      "execution_count": 21,
      "metadata": {
        "jupyter": {
          "outputs_hidden": false
        },
        "id": "D0KASpAIMgxK",
        "outputId": "cffa984d-62c0-46ae-f892-36bd1cb97498",
        "colab": {
          "base_uri": "https://localhost:8080/"
        }
      },
      "outputs": [
        {
          "output_type": "execute_result",
          "data": {
            "text/plain": [
              "PeriodIndex(['2015-07', '2015-08', '2015-09', '2015-10', '2015-11', '2015-12',\n",
              "             '2016-01', '2016-02'],\n",
              "            dtype='period[M]')"
            ]
          },
          "metadata": {},
          "execution_count": 21
        }
      ],
      "source": [
        "pd.period_range('2015-07', periods=8, freq='M')"
      ]
    },
    {
      "cell_type": "markdown",
      "metadata": {
        "id": "A8Hn5jq3MgxK"
      },
      "source": [
        "And a sequence of durations increasing by an hour:"
      ]
    },
    {
      "cell_type": "code",
      "execution_count": 22,
      "metadata": {
        "jupyter": {
          "outputs_hidden": false
        },
        "id": "AY1FJpCgMgxK",
        "outputId": "b3789abf-dae2-4c56-acdd-29be565b8ebb",
        "colab": {
          "base_uri": "https://localhost:8080/"
        }
      },
      "outputs": [
        {
          "output_type": "stream",
          "name": "stderr",
          "text": [
            "/tmp/ipython-input-1860625161.py:1: FutureWarning: 'H' is deprecated and will be removed in a future version, please use 'h' instead.\n",
            "  pd.timedelta_range(0, periods=6, freq='H')\n"
          ]
        },
        {
          "output_type": "execute_result",
          "data": {
            "text/plain": [
              "TimedeltaIndex(['0 days 00:00:00', '0 days 01:00:00', '0 days 02:00:00',\n",
              "                '0 days 03:00:00', '0 days 04:00:00', '0 days 05:00:00'],\n",
              "               dtype='timedelta64[ns]', freq='h')"
            ]
          },
          "metadata": {},
          "execution_count": 22
        }
      ],
      "source": [
        "pd.timedelta_range(0, periods=6, freq='H')"
      ]
    },
    {
      "cell_type": "markdown",
      "metadata": {
        "id": "VK8kAfoGMgxL"
      },
      "source": [
        "All of these require an understanding of Pandas frequency codes, which are summarized in the next section."
      ]
    },
    {
      "cell_type": "markdown",
      "metadata": {
        "id": "PYN-8vwlMgxL"
      },
      "source": [
        "## Frequencies and Offsets\n",
        "\n",
        "Fundamental to these Pandas time series tools is the concept of a *frequency* or *date offset*. The following table summarizes the main codes available; as with the `D` (day) and `H` (hour) codes demonstrated in the previous sections, we can use these to specify any desired frequency spacing:"
      ]
    },
    {
      "cell_type": "markdown",
      "metadata": {
        "id": "5SeERpbNMgxL"
      },
      "source": [
        "| Code | Description       | Code | Description          |\n",
        "|------|-------------------|------|----------------------|\n",
        "| `D`  | Calendar day      | `B`  | Business day         |\n",
        "| `W`  | Weekly            |      |                      |\n",
        "| `M`  | Month end         | `BM` | Business month end   |\n",
        "| `Q`  | Quarter end       | `BQ` | Business quarter end |\n",
        "| `A`  | Year end          | `BA` | Business year end    |\n",
        "| `H`  | Hours             | `BH` | Business hours       |\n",
        "| `T`  | Minutes           |      |                      |\n",
        "| `S`  | Seconds           |      |                      |\n",
        "| `L`  | Milliseconds       |      |                      |\n",
        "| `U`  | Microseconds      |      |                      |\n",
        "| `N`  | Nanoseconds       |      |                      |"
      ]
    },
    {
      "cell_type": "markdown",
      "metadata": {
        "id": "pN5aeYe6MgxL"
      },
      "source": [
        "The monthly, quarterly, and annual frequencies are all marked at the end of the specified period.\n",
        "Adding an `S` suffix to any of these causes them to instead be marked at the beginning:"
      ]
    },
    {
      "cell_type": "markdown",
      "metadata": {
        "id": "3G1_twH4MgxL"
      },
      "source": [
        "| Code  | Description       | Code  | Description            |\n",
        "|-------|-------------------|-------|------------------------|\n",
        "| `MS`  | Month start       |`BMS`  | Business month start   |\n",
        "| `QS`  | Quarter start     |`BQS`  | Business quarter start |\n",
        "| `AS`  | Year start        |`BAS`  | Business year start    |"
      ]
    },
    {
      "cell_type": "markdown",
      "metadata": {
        "id": "-EX2wTrJMgxL"
      },
      "source": [
        "Additionally, you can change the month used to mark any quarterly or annual code by adding a three-letter month code as a suffix:\n",
        "\n",
        "- `Q-JAN`, `BQ-FEB`, `QS-MAR`, `BQS-APR`, etc.\n",
        "- `A-JAN`, `BA-FEB`, `AS-MAR`, `BAS-APR`, etc.\n",
        "\n",
        "In the same way, the split point of the weekly frequency can be modified by adding a three-letter weekday code:\n",
        "\n",
        "- `W-SUN`, `W-MON`, `W-TUE`, `W-WED`, etc.\n",
        "\n",
        "On top of this, codes can be combined with numbers to specify other frequencies.\n",
        "For example, for a frequency of 2 hours and 30 minutes, we can combine the hour (`H`) and minute (`T`) codes as follows:"
      ]
    },
    {
      "cell_type": "code",
      "execution_count": 23,
      "metadata": {
        "jupyter": {
          "outputs_hidden": false
        },
        "id": "ua9jiMFjMgxL",
        "outputId": "eb592b2c-c9a5-4983-9de8-b79aa6c03c30",
        "colab": {
          "base_uri": "https://localhost:8080/"
        }
      },
      "outputs": [
        {
          "output_type": "stream",
          "name": "stderr",
          "text": [
            "/tmp/ipython-input-22847273.py:1: FutureWarning: 'H' is deprecated and will be removed in a future version, please use 'h' instead.\n",
            "  pd.timedelta_range(0, periods=6, freq=\"2H30T\")\n",
            "/tmp/ipython-input-22847273.py:1: FutureWarning: 'T' is deprecated and will be removed in a future version, please use 'min' instead.\n",
            "  pd.timedelta_range(0, periods=6, freq=\"2H30T\")\n"
          ]
        },
        {
          "output_type": "execute_result",
          "data": {
            "text/plain": [
              "TimedeltaIndex(['0 days 00:00:00', '0 days 02:30:00', '0 days 05:00:00',\n",
              "                '0 days 07:30:00', '0 days 10:00:00', '0 days 12:30:00'],\n",
              "               dtype='timedelta64[ns]', freq='150min')"
            ]
          },
          "metadata": {},
          "execution_count": 23
        }
      ],
      "source": [
        "pd.timedelta_range(0, periods=6, freq=\"2H30T\")"
      ]
    },
    {
      "cell_type": "markdown",
      "metadata": {
        "id": "IwmhUUChMgxL"
      },
      "source": [
        "All of these short codes refer to specific instances of Pandas time series offsets, which can be found in the `pd.tseries.offsets` module.\n",
        "For example, we can create a business day offset directly as follows:"
      ]
    },
    {
      "cell_type": "code",
      "execution_count": 24,
      "metadata": {
        "jupyter": {
          "outputs_hidden": false
        },
        "id": "5lN_vtmxMgxL",
        "outputId": "c5f932d2-72fd-42cf-c216-e69b9ec5f90a",
        "colab": {
          "base_uri": "https://localhost:8080/"
        }
      },
      "outputs": [
        {
          "output_type": "execute_result",
          "data": {
            "text/plain": [
              "DatetimeIndex(['2015-07-01', '2015-07-02', '2015-07-03', '2015-07-06',\n",
              "               '2015-07-07', '2015-07-08'],\n",
              "              dtype='datetime64[ns]', freq='B')"
            ]
          },
          "metadata": {},
          "execution_count": 24
        }
      ],
      "source": [
        "from pandas.tseries.offsets import BDay\n",
        "pd.date_range('2015-07-01', periods=6, freq=BDay())"
      ]
    },
    {
      "cell_type": "markdown",
      "metadata": {
        "id": "kjQSBPxeMgxL"
      },
      "source": [
        "For more discussion of the use of frequencies and offsets, see the [`DateOffset` section](https://pandas.pydata.org/pandas-docs/stable/user_guide/timeseries.html#dateoffset-objects) of the Pandas documentation."
      ]
    },
    {
      "cell_type": "markdown",
      "metadata": {
        "id": "Riv1kcHrMgxL"
      },
      "source": [
        "## Resampling, Shifting, and Windowing\n",
        "\n",
        "The ability to use dates and times as indices to intuitively organize and access data is an important aspect of the Pandas time series tools.\n",
        "The benefits of indexed data in general (automatic alignment during operations, intuitive data slicing and access, etc.) still apply, and Pandas provides several additional time series–specific operations.\n",
        "\n",
        "We will take a look at a few of those here, using some stock price data as an example.\n",
        "Because Pandas was developed largely in a finance context, it includes some very specific tools for financial data.\n",
        "For example, the accompanying `pandas-datareader` package (installable via `pip install pandas-datareader`) knows how to import data from various online sources.\n",
        "Here we will load part of the S&P 500 price history:"
      ]
    },
    {
      "cell_type": "code",
      "execution_count": 25,
      "metadata": {
        "jupyter": {
          "outputs_hidden": false
        },
        "id": "xDAkANnjMgxL",
        "outputId": "c8510def-8cec-4e34-eba3-e82153acd558",
        "colab": {
          "base_uri": "https://localhost:8080/",
          "height": 1000
        }
      },
      "outputs": [
        {
          "output_type": "error",
          "ename": "RemoteDataError",
          "evalue": "Unable to read URL: https://finance.yahoo.com/quote/^GSPC/history?period1=1514779200&period2=1641095999&interval=1d&frequency=1d&filter=history\nResponse Text:\nb'<html><meta charset=\\'utf-8\\'>\\n<script>\\nif(window != window.top){\\ndocument.write(\\'<p>Content is currently unavailable.</p><img src=\"//geo.yahoo.com/p?s=1197757039&t=\\'\\n    + new Date().getTime() + \\'&_R=\\'\\n    + encodeURIComponent(document.referrer)\\n    + \\'&err=404\\'\\n    + \\'\" width=\"0px\" height=\"0px\"/>\\');\\n}else{\\nwindow.location.replace(\\'https://\\' + window.location.host + \\'/?err=404\\');\\n}\\n</script>\\n<noscript>\\n<META http-equiv=\"refresh\" content=\"0;URL=https://finance.yahoo.com/?err=404\">\\n</noscript></html>'",
          "traceback": [
            "\u001b[0;31m---------------------------------------------------------------------------\u001b[0m",
            "\u001b[0;31mRemoteDataError\u001b[0m                           Traceback (most recent call last)",
            "\u001b[0;32m/tmp/ipython-input-4010537902.py\u001b[0m in \u001b[0;36m<cell line: 0>\u001b[0;34m()\u001b[0m\n\u001b[1;32m      1\u001b[0m \u001b[0;32mfrom\u001b[0m \u001b[0mpandas_datareader\u001b[0m \u001b[0;32mimport\u001b[0m \u001b[0mdata\u001b[0m\u001b[0;34m\u001b[0m\u001b[0;34m\u001b[0m\u001b[0m\n\u001b[1;32m      2\u001b[0m \u001b[0;34m\u001b[0m\u001b[0m\n\u001b[0;32m----> 3\u001b[0;31m sp500 = data.DataReader('^GSPC', start='2018', end='2022',\n\u001b[0m\u001b[1;32m      4\u001b[0m                         data_source='yahoo')\n\u001b[1;32m      5\u001b[0m \u001b[0msp500\u001b[0m\u001b[0;34m.\u001b[0m\u001b[0mhead\u001b[0m\u001b[0;34m(\u001b[0m\u001b[0;34m)\u001b[0m\u001b[0;34m\u001b[0m\u001b[0;34m\u001b[0m\u001b[0m\n",
            "\u001b[0;32m/usr/local/lib/python3.11/dist-packages/pandas/util/_decorators.py\u001b[0m in \u001b[0;36mwrapper\u001b[0;34m(*args, **kwargs)\u001b[0m\n\u001b[1;32m    211\u001b[0m                     \u001b[0;32mraise\u001b[0m \u001b[0mTypeError\u001b[0m\u001b[0;34m(\u001b[0m\u001b[0mmsg\u001b[0m\u001b[0;34m)\u001b[0m\u001b[0;34m\u001b[0m\u001b[0;34m\u001b[0m\u001b[0m\n\u001b[1;32m    212\u001b[0m                 \u001b[0mkwargs\u001b[0m\u001b[0;34m[\u001b[0m\u001b[0mnew_arg_name\u001b[0m\u001b[0;34m]\u001b[0m \u001b[0;34m=\u001b[0m \u001b[0mnew_arg_value\u001b[0m\u001b[0;34m\u001b[0m\u001b[0;34m\u001b[0m\u001b[0m\n\u001b[0;32m--> 213\u001b[0;31m             \u001b[0;32mreturn\u001b[0m \u001b[0mfunc\u001b[0m\u001b[0;34m(\u001b[0m\u001b[0;34m*\u001b[0m\u001b[0margs\u001b[0m\u001b[0;34m,\u001b[0m \u001b[0;34m**\u001b[0m\u001b[0mkwargs\u001b[0m\u001b[0;34m)\u001b[0m\u001b[0;34m\u001b[0m\u001b[0;34m\u001b[0m\u001b[0m\n\u001b[0m\u001b[1;32m    214\u001b[0m \u001b[0;34m\u001b[0m\u001b[0m\n\u001b[1;32m    215\u001b[0m         \u001b[0;32mreturn\u001b[0m \u001b[0mcast\u001b[0m\u001b[0;34m(\u001b[0m\u001b[0mF\u001b[0m\u001b[0;34m,\u001b[0m \u001b[0mwrapper\u001b[0m\u001b[0;34m)\u001b[0m\u001b[0;34m\u001b[0m\u001b[0;34m\u001b[0m\u001b[0m\n",
            "\u001b[0;32m/usr/local/lib/python3.11/dist-packages/pandas_datareader/data.py\u001b[0m in \u001b[0;36mDataReader\u001b[0;34m(name, data_source, start, end, retry_count, pause, session, api_key)\u001b[0m\n\u001b[1;32m    377\u001b[0m             \u001b[0mpause\u001b[0m\u001b[0;34m=\u001b[0m\u001b[0mpause\u001b[0m\u001b[0;34m,\u001b[0m\u001b[0;34m\u001b[0m\u001b[0;34m\u001b[0m\u001b[0m\n\u001b[1;32m    378\u001b[0m             \u001b[0msession\u001b[0m\u001b[0;34m=\u001b[0m\u001b[0msession\u001b[0m\u001b[0;34m,\u001b[0m\u001b[0;34m\u001b[0m\u001b[0;34m\u001b[0m\u001b[0m\n\u001b[0;32m--> 379\u001b[0;31m         ).read()\n\u001b[0m\u001b[1;32m    380\u001b[0m \u001b[0;34m\u001b[0m\u001b[0m\n\u001b[1;32m    381\u001b[0m     \u001b[0;32melif\u001b[0m \u001b[0mdata_source\u001b[0m \u001b[0;34m==\u001b[0m \u001b[0;34m\"iex\"\u001b[0m\u001b[0;34m:\u001b[0m\u001b[0;34m\u001b[0m\u001b[0;34m\u001b[0m\u001b[0m\n",
            "\u001b[0;32m/usr/local/lib/python3.11/dist-packages/pandas_datareader/base.py\u001b[0m in \u001b[0;36mread\u001b[0;34m(self)\u001b[0m\n\u001b[1;32m    251\u001b[0m         \u001b[0;31m# If a single symbol, (e.g., 'GOOG')\u001b[0m\u001b[0;34m\u001b[0m\u001b[0;34m\u001b[0m\u001b[0m\n\u001b[1;32m    252\u001b[0m         \u001b[0;32mif\u001b[0m \u001b[0misinstance\u001b[0m\u001b[0;34m(\u001b[0m\u001b[0mself\u001b[0m\u001b[0;34m.\u001b[0m\u001b[0msymbols\u001b[0m\u001b[0;34m,\u001b[0m \u001b[0;34m(\u001b[0m\u001b[0mstring_types\u001b[0m\u001b[0;34m,\u001b[0m \u001b[0mint\u001b[0m\u001b[0;34m)\u001b[0m\u001b[0;34m)\u001b[0m\u001b[0;34m:\u001b[0m\u001b[0;34m\u001b[0m\u001b[0;34m\u001b[0m\u001b[0m\n\u001b[0;32m--> 253\u001b[0;31m             \u001b[0mdf\u001b[0m \u001b[0;34m=\u001b[0m \u001b[0mself\u001b[0m\u001b[0;34m.\u001b[0m\u001b[0m_read_one_data\u001b[0m\u001b[0;34m(\u001b[0m\u001b[0mself\u001b[0m\u001b[0;34m.\u001b[0m\u001b[0murl\u001b[0m\u001b[0;34m,\u001b[0m \u001b[0mparams\u001b[0m\u001b[0;34m=\u001b[0m\u001b[0mself\u001b[0m\u001b[0;34m.\u001b[0m\u001b[0m_get_params\u001b[0m\u001b[0;34m(\u001b[0m\u001b[0mself\u001b[0m\u001b[0;34m.\u001b[0m\u001b[0msymbols\u001b[0m\u001b[0;34m)\u001b[0m\u001b[0;34m)\u001b[0m\u001b[0;34m\u001b[0m\u001b[0;34m\u001b[0m\u001b[0m\n\u001b[0m\u001b[1;32m    254\u001b[0m         \u001b[0;31m# Or multiple symbols, (e.g., ['GOOG', 'AAPL', 'MSFT'])\u001b[0m\u001b[0;34m\u001b[0m\u001b[0;34m\u001b[0m\u001b[0m\n\u001b[1;32m    255\u001b[0m         \u001b[0;32melif\u001b[0m \u001b[0misinstance\u001b[0m\u001b[0;34m(\u001b[0m\u001b[0mself\u001b[0m\u001b[0;34m.\u001b[0m\u001b[0msymbols\u001b[0m\u001b[0;34m,\u001b[0m \u001b[0mDataFrame\u001b[0m\u001b[0;34m)\u001b[0m\u001b[0;34m:\u001b[0m\u001b[0;34m\u001b[0m\u001b[0;34m\u001b[0m\u001b[0m\n",
            "\u001b[0;32m/usr/local/lib/python3.11/dist-packages/pandas_datareader/yahoo/daily.py\u001b[0m in \u001b[0;36m_read_one_data\u001b[0;34m(self, url, params)\u001b[0m\n\u001b[1;32m    147\u001b[0m         \u001b[0murl\u001b[0m \u001b[0;34m=\u001b[0m \u001b[0murl\u001b[0m\u001b[0;34m.\u001b[0m\u001b[0mformat\u001b[0m\u001b[0;34m(\u001b[0m\u001b[0msymbol\u001b[0m\u001b[0;34m)\u001b[0m\u001b[0;34m\u001b[0m\u001b[0;34m\u001b[0m\u001b[0m\n\u001b[1;32m    148\u001b[0m \u001b[0;34m\u001b[0m\u001b[0m\n\u001b[0;32m--> 149\u001b[0;31m         \u001b[0mresp\u001b[0m \u001b[0;34m=\u001b[0m \u001b[0mself\u001b[0m\u001b[0;34m.\u001b[0m\u001b[0m_get_response\u001b[0m\u001b[0;34m(\u001b[0m\u001b[0murl\u001b[0m\u001b[0;34m,\u001b[0m \u001b[0mparams\u001b[0m\u001b[0;34m=\u001b[0m\u001b[0mparams\u001b[0m\u001b[0;34m,\u001b[0m \u001b[0mheaders\u001b[0m\u001b[0;34m=\u001b[0m\u001b[0mself\u001b[0m\u001b[0;34m.\u001b[0m\u001b[0mheaders\u001b[0m\u001b[0;34m)\u001b[0m\u001b[0;34m\u001b[0m\u001b[0;34m\u001b[0m\u001b[0m\n\u001b[0m\u001b[1;32m    150\u001b[0m         \u001b[0mptrn\u001b[0m \u001b[0;34m=\u001b[0m \u001b[0;34mr\"root\\.App\\.main = (.*?);\\n}\\(this\\)\\);\"\u001b[0m\u001b[0;34m\u001b[0m\u001b[0;34m\u001b[0m\u001b[0m\n\u001b[1;32m    151\u001b[0m         \u001b[0;32mtry\u001b[0m\u001b[0;34m:\u001b[0m\u001b[0;34m\u001b[0m\u001b[0;34m\u001b[0m\u001b[0m\n",
            "\u001b[0;32m/usr/local/lib/python3.11/dist-packages/pandas_datareader/base.py\u001b[0m in \u001b[0;36m_get_response\u001b[0;34m(self, url, params, headers)\u001b[0m\n\u001b[1;32m    179\u001b[0m             \u001b[0mmsg\u001b[0m \u001b[0;34m+=\u001b[0m \u001b[0;34m\"\\nResponse Text:\\n{0}\"\u001b[0m\u001b[0;34m.\u001b[0m\u001b[0mformat\u001b[0m\u001b[0;34m(\u001b[0m\u001b[0mlast_response_text\u001b[0m\u001b[0;34m)\u001b[0m\u001b[0;34m\u001b[0m\u001b[0;34m\u001b[0m\u001b[0m\n\u001b[1;32m    180\u001b[0m \u001b[0;34m\u001b[0m\u001b[0m\n\u001b[0;32m--> 181\u001b[0;31m         \u001b[0;32mraise\u001b[0m \u001b[0mRemoteDataError\u001b[0m\u001b[0;34m(\u001b[0m\u001b[0mmsg\u001b[0m\u001b[0;34m)\u001b[0m\u001b[0;34m\u001b[0m\u001b[0;34m\u001b[0m\u001b[0m\n\u001b[0m\u001b[1;32m    182\u001b[0m \u001b[0;34m\u001b[0m\u001b[0m\n\u001b[1;32m    183\u001b[0m     \u001b[0;32mdef\u001b[0m \u001b[0m_get_crumb\u001b[0m\u001b[0;34m(\u001b[0m\u001b[0mself\u001b[0m\u001b[0;34m,\u001b[0m \u001b[0;34m*\u001b[0m\u001b[0margs\u001b[0m\u001b[0;34m)\u001b[0m\u001b[0;34m:\u001b[0m\u001b[0;34m\u001b[0m\u001b[0;34m\u001b[0m\u001b[0m\n",
            "\u001b[0;31mRemoteDataError\u001b[0m: Unable to read URL: https://finance.yahoo.com/quote/^GSPC/history?period1=1514779200&period2=1641095999&interval=1d&frequency=1d&filter=history\nResponse Text:\nb'<html><meta charset=\\'utf-8\\'>\\n<script>\\nif(window != window.top){\\ndocument.write(\\'<p>Content is currently unavailable.</p><img src=\"//geo.yahoo.com/p?s=1197757039&t=\\'\\n    + new Date().getTime() + \\'&_R=\\'\\n    + encodeURIComponent(document.referrer)\\n    + \\'&err=404\\'\\n    + \\'\" width=\"0px\" height=\"0px\"/>\\');\\n}else{\\nwindow.location.replace(\\'https://\\' + window.location.host + \\'/?err=404\\');\\n}\\n</script>\\n<noscript>\\n<META http-equiv=\"refresh\" content=\"0;URL=https://finance.yahoo.com/?err=404\">\\n</noscript></html>'"
          ]
        }
      ],
      "source": [
        "from pandas_datareader import data\n",
        "\n",
        "sp500 = data.DataReader('^GSPC', start='2018', end='2022',\n",
        "                        data_source='yahoo')\n",
        "sp500.head()"
      ]
    },
    {
      "cell_type": "markdown",
      "metadata": {
        "id": "sb2cSJoqMgxL"
      },
      "source": [
        "For simplicity, we'll use just the closing price:"
      ]
    },
    {
      "cell_type": "code",
      "execution_count": null,
      "metadata": {
        "tags": [],
        "id": "1Or9i2XbMgxL"
      },
      "outputs": [],
      "source": [
        "sp500 = sp500['Close']"
      ]
    },
    {
      "cell_type": "markdown",
      "metadata": {
        "id": "bH4jmcWKMgxL"
      },
      "source": [
        "We can visualize this using the ``plot`` method, after the normal Matplotlib setup boilerplate (see [Part 4](04.00-Introduction-To-Matplotlib.ipynb)); the result is shown in the following figure:"
      ]
    },
    {
      "cell_type": "code",
      "execution_count": null,
      "metadata": {
        "jupyter": {
          "outputs_hidden": false
        },
        "id": "ZK_3zbSMMgxL"
      },
      "outputs": [],
      "source": [
        "%matplotlib inline\n",
        "import matplotlib.pyplot as plt\n",
        "plt.style.use('seaborn-whitegrid')\n",
        "sp500.plot();"
      ]
    },
    {
      "cell_type": "markdown",
      "metadata": {
        "id": "UJBSrJMyMgxM"
      },
      "source": [
        "### Resampling and Converting Frequencies\n",
        "\n",
        "One common need when dealing with time series data is resampling at a higher or lower frequency.\n",
        "This can be done using the `resample` method, or the much simpler `asfreq` method.\n",
        "The primary difference between the two is that `resample` is fundamentally a *data aggregation*, while `asfreq` is fundamentally a *data selection*.\n",
        "\n",
        "Let's compare what the two return when we downsample the S&P 500 closing price data.\n",
        "Here we will resample the data at the end of business year; the following figure shows the result:"
      ]
    },
    {
      "cell_type": "code",
      "execution_count": null,
      "metadata": {
        "jupyter": {
          "outputs_hidden": false
        },
        "id": "K1GGJVtjMgxM"
      },
      "outputs": [],
      "source": [
        "sp500.plot(alpha=0.5, style='-')\n",
        "sp500.resample('BA').mean().plot(style=':')\n",
        "sp500.asfreq('BA').plot(style='--');\n",
        "plt.legend(['input', 'resample', 'asfreq'],\n",
        "           loc='upper left');"
      ]
    },
    {
      "cell_type": "markdown",
      "metadata": {
        "id": "DcUh7LA2MgxM"
      },
      "source": [
        "Notice the difference: at each point, `resample` reports the *average of the previous year*, while `asfreq` reports the *value at the end of the year*."
      ]
    },
    {
      "cell_type": "markdown",
      "metadata": {
        "id": "OJ-L0HDbMgxM"
      },
      "source": [
        "For upsampling, `resample` and `asfreq` are largely equivalent, though `resample` has many more options available.\n",
        "In this case, the default for both methods is to leave the upsampled points empty; that is, filled with NA values.\n",
        "Like the `pd.fillna` function discussed in [Handling Missing Data](03.04-Missing-Values.ipynb), `asfreq` accepts a `method` argument to specify how values are imputed.\n",
        "Here, we will resample the business day data at a daily frequency (i.e., including weekends); the following figure shows the result:"
      ]
    },
    {
      "cell_type": "code",
      "execution_count": null,
      "metadata": {
        "jupyter": {
          "outputs_hidden": false
        },
        "id": "p7jGGmocMgxM"
      },
      "outputs": [],
      "source": [
        "fig, ax = plt.subplots(2, sharex=True)\n",
        "data = sp500.iloc[:20]\n",
        "\n",
        "data.asfreq('D').plot(ax=ax[0], marker='o')\n",
        "\n",
        "data.asfreq('D', method='bfill').plot(ax=ax[1], style='-o')\n",
        "data.asfreq('D', method='ffill').plot(ax=ax[1], style='--o')\n",
        "ax[1].legend([\"back-fill\", \"forward-fill\"]);"
      ]
    },
    {
      "cell_type": "markdown",
      "metadata": {
        "id": "YrEc_48QMgxM"
      },
      "source": [
        "Because the S&P 500 data only exists for business days, the top panel has gaps representing NA values.\n",
        "The bottom panel shows the differences between two strategies for filling the gaps: forward filling and backward filling."
      ]
    },
    {
      "cell_type": "markdown",
      "metadata": {
        "id": "OVLBgCXxMgxM"
      },
      "source": [
        "### Time Shifts\n",
        "\n",
        "Another common time series–specific operation is shifting of data in time.\n",
        "For this, Pandas provides the `shift` method, which can be used to shift data by a given number of entries.\n",
        "With time series data sampled at a regular frequency, this can give us a way to explore trends over time.\n",
        "\n",
        "For example, here we resample the data to daily values, and shift by 364 to compute the 1-year return on investment for the S&P 500 over time (see the following figure):"
      ]
    },
    {
      "cell_type": "code",
      "execution_count": null,
      "metadata": {
        "id": "s5ihcugDMgxM"
      },
      "outputs": [],
      "source": [
        "sp500 = sp500.asfreq('D', method='pad')\n",
        "\n",
        "ROI = 100 * (sp500.shift(-365) - sp500) / sp500\n",
        "ROI.plot()\n",
        "plt.ylabel('% Return on Investment after 1 year');"
      ]
    },
    {
      "cell_type": "markdown",
      "metadata": {
        "id": "-rOZO3ULMgxM"
      },
      "source": [
        "The worst one-year return was around March 2019, with the coronavirus-related market crash exactly a year later. As you might expect, the best one-year return was to be found in March 2020, for those with enough foresight or luck to buy low."
      ]
    },
    {
      "cell_type": "markdown",
      "metadata": {
        "id": "KIEBZ7tnMgxM"
      },
      "source": [
        "### Rolling Windows\n",
        "\n",
        "Calculating rolling statistics is a third type of time series–specific operation implemented by Pandas.\n",
        "This can be accomplished via the `rolling` attribute of `Series` and `DataFrame` objects, which returns a view similar to what we saw with the `groupby` operation (see [Aggregation and Grouping](03.08-Aggregation-and-Grouping.ipynb)).\n",
        "This rolling view makes available a number of aggregation operations by default.\n"
      ]
    },
    {
      "cell_type": "markdown",
      "metadata": {
        "id": "a--xHGYSMgxM"
      },
      "source": [
        "\n",
        "For example, we can look at the one-year centered rolling mean and standard deviation of the  stock prices (see the following figure):"
      ]
    },
    {
      "cell_type": "code",
      "execution_count": null,
      "metadata": {
        "jupyter": {
          "outputs_hidden": false
        },
        "id": "EMpjreCRMgxM"
      },
      "outputs": [],
      "source": [
        "rolling = sp500.rolling(365, center=True)\n",
        "\n",
        "data = pd.DataFrame({'input': sp500,\n",
        "                     'one-year rolling_mean': rolling.mean(),\n",
        "                     'one-year rolling_median': rolling.median()})\n",
        "ax = data.plot(style=['-', '--', ':'])\n",
        "ax.lines[0].set_alpha(0.3)"
      ]
    },
    {
      "cell_type": "markdown",
      "metadata": {
        "id": "mEjXt4zfMgxM"
      },
      "source": [
        "As with `groupby` operations, the `aggregate` and `apply` methods can be used for custom rolling computations."
      ]
    },
    {
      "cell_type": "markdown",
      "metadata": {
        "id": "DZ1VS8ZkMgxM"
      },
      "source": [
        "## Where to Learn More\n",
        "\n",
        "This chapter has provided only a brief summary of some of the most essential features of time series tools provided by Pandas; for a more complete discussion, you can refer to the [\"Time Series/Date Functionality\" section](http://pandas.pydata.org/pandas-docs/stable/timeseries.html) of the Pandas online documentation.\n",
        "\n",
        "Another excellent resource is the book [*Python for Data Analysis*](https://learning.oreilly.com/library/view/python-for-data/9781098104023/) by Wes McKinney (O'Reilly).\n",
        "It is an invaluable resource on the use of Pandas.\n",
        "In particular, this book emphasizes time series tools in the context of business and finance, and focuses much more on particular details of business calendars, time zones, and related topics.\n",
        "\n",
        "As always, you can also use the IPython help functionality to explore and try out further options available to the functions and methods discussed here. I find this often is the best way to learn a new Python tool."
      ]
    },
    {
      "cell_type": "markdown",
      "metadata": {
        "id": "IIyysQLEMgxM"
      },
      "source": [
        "## Example: Visualizing Seattle Bicycle Counts\n",
        "\n",
        "As a more involved example of working with time series data, let's take a look at bicycle counts on Seattle's [Fremont Bridge](http://www.openstreetmap.org/#map=17/47.64813/-122.34965).\n",
        "This data comes from an automated bicycle counter installed in late 2012, which has inductive sensors on the east and west sidewalks of the bridge.\n",
        "The hourly bicycle counts can be downloaded from [http://data.seattle.gov](http://data.seattle.gov); the Fremont Bridge Bicycle Counter dataset is available under the Transportation category.\n",
        "\n",
        "The CSV used for this book can be downloaded as follows:"
      ]
    },
    {
      "cell_type": "code",
      "execution_count": null,
      "metadata": {
        "jupyter": {
          "outputs_hidden": false
        },
        "id": "9a-FbqlIMgxM"
      },
      "outputs": [],
      "source": [
        "# url = ('https://raw.githubusercontent.com/jakevdp/'\n",
        "#        'bicycle-data/main/FremontBridge.csv')\n",
        "# !curl -O {url}"
      ]
    },
    {
      "cell_type": "markdown",
      "metadata": {
        "id": "LB2PDv3vMgxM"
      },
      "source": [
        "Once this dataset is downloaded, we can use Pandas to read the CSV output into a `DataFrame`.\n",
        "We will specify that we want the `Date` column as an index, and we want these dates to be automatically parsed:"
      ]
    },
    {
      "cell_type": "code",
      "execution_count": null,
      "metadata": {
        "jupyter": {
          "outputs_hidden": false
        },
        "id": "zXfMK1hJMgxN"
      },
      "outputs": [],
      "source": [
        "data = pd.read_csv('FremontBridge.csv', index_col='Date', parse_dates=True)\n",
        "data.head()"
      ]
    },
    {
      "cell_type": "markdown",
      "metadata": {
        "id": "vu2ATR1uMgxN"
      },
      "source": [
        "For convenience, we'll shorten the column names:"
      ]
    },
    {
      "cell_type": "code",
      "execution_count": null,
      "metadata": {
        "jupyter": {
          "outputs_hidden": false
        },
        "id": "Ui3uZT_MMgxN"
      },
      "outputs": [],
      "source": [
        "data.columns = ['Total', 'East', 'West']"
      ]
    },
    {
      "cell_type": "markdown",
      "metadata": {
        "id": "ZO1Yo2kuMgxN"
      },
      "source": [
        "Now let's take a look at the summary statistics for this data:"
      ]
    },
    {
      "cell_type": "code",
      "execution_count": null,
      "metadata": {
        "jupyter": {
          "outputs_hidden": false
        },
        "id": "E3cOAigwMgxN"
      },
      "outputs": [],
      "source": [
        "data.dropna().describe()"
      ]
    },
    {
      "cell_type": "markdown",
      "metadata": {
        "id": "J1w6zghtMgxN"
      },
      "source": [
        "### Visualizing the Data\n",
        "\n",
        "We can gain some insight into the dataset by visualizing it.\n",
        "Let's start by plotting the raw data (see the following figure):"
      ]
    },
    {
      "cell_type": "code",
      "execution_count": null,
      "metadata": {
        "jupyter": {
          "outputs_hidden": false
        },
        "id": "hyyXyWpvMgxN"
      },
      "outputs": [],
      "source": [
        "data.plot()\n",
        "plt.ylabel('Hourly Bicycle Count');"
      ]
    },
    {
      "cell_type": "markdown",
      "metadata": {
        "id": "_oZfPqYbMgxR"
      },
      "source": [
        "The ~150,000 hourly samples are far too dense for us to make much sense of.\n",
        "We can gain more insight by resampling the data to a coarser grid.\n",
        "Let's resample by week (see the following figure):"
      ]
    },
    {
      "cell_type": "code",
      "execution_count": null,
      "metadata": {
        "jupyter": {
          "outputs_hidden": false
        },
        "id": "HaQXhQSnMgxR"
      },
      "outputs": [],
      "source": [
        "weekly = data.resample('W').sum()\n",
        "weekly.plot(style=['-', ':', '--'])\n",
        "plt.ylabel('Weekly bicycle count');"
      ]
    },
    {
      "cell_type": "markdown",
      "metadata": {
        "id": "B9Q8LPImMgxR"
      },
      "source": [
        "This reveals some trends: as you might expect, people bicycle more in the summer than in the winter, and even within a particular season the bicycle use varies from week to week (likely dependent on weather; see [In Depth: Linear Regression](05.06-Linear-Regression.ipynb), where we explore this further). Further, the effect of the COVID-19 pandemic on commuting patterns is quite clear, starting in early 2020.\n",
        "\n",
        "Another option that comes in handy for aggregating the data is to use a rolling mean, utilizing the `pd.rolling_mean` function.\n",
        "Here we'll examine the 30-day rolling mean of our data, making sure to center the window (see the following figure):"
      ]
    },
    {
      "cell_type": "code",
      "execution_count": null,
      "metadata": {
        "jupyter": {
          "outputs_hidden": false
        },
        "id": "Ev0emNVCMgxR"
      },
      "outputs": [],
      "source": [
        "daily = data.resample('D').sum()\n",
        "daily.rolling(30, center=True).sum().plot(style=['-', ':', '--'])\n",
        "plt.ylabel('mean hourly count');"
      ]
    },
    {
      "cell_type": "markdown",
      "metadata": {
        "id": "PN9VHBBtMgxR"
      },
      "source": [
        "The jaggedness of the result is due to the hard cutoff of the window.\n",
        "We can get a smoother version of a rolling mean using a window function—for example, a Gaussian window, as shown in the following figure.\n",
        "The following code specifies both the width of the window (here, 50 days) and the width of the Gaussian window (here, 10 days):"
      ]
    },
    {
      "cell_type": "code",
      "execution_count": null,
      "metadata": {
        "jupyter": {
          "outputs_hidden": false
        },
        "id": "KeTxLT6QMgxR"
      },
      "outputs": [],
      "source": [
        "daily.rolling(50, center=True,\n",
        "              win_type='gaussian').sum(std=10).plot(style=['-', ':', '--']);"
      ]
    },
    {
      "cell_type": "markdown",
      "metadata": {
        "id": "R206jY1bMgxR"
      },
      "source": [
        "### Digging into the Data\n",
        "\n",
        "While these smoothed data views are useful to get an idea of the general trend in the data, they hide much of the structure.\n",
        "For example, we might want to look at the average traffic as a function of the time of day.\n",
        "We can do this using the `groupby` functionality discussed in [Aggregation and Grouping](03.08-Aggregation-and-Grouping.ipynb) (see the following figure):"
      ]
    },
    {
      "cell_type": "code",
      "execution_count": null,
      "metadata": {
        "jupyter": {
          "outputs_hidden": false
        },
        "id": "zyJCVRq0MgxR"
      },
      "outputs": [],
      "source": [
        "by_time = data.groupby(data.index.time).mean()\n",
        "hourly_ticks = 4 * 60 * 60 * np.arange(6)\n",
        "by_time.plot(xticks=hourly_ticks, style=['-', ':', '--']);"
      ]
    },
    {
      "cell_type": "markdown",
      "metadata": {
        "id": "bDzwLxsKMgxR"
      },
      "source": [
        "The hourly traffic is a strongly bimodal sequence, with peaks around 8:00 a.m. and 5:00 p.m.\n",
        "This is likely evidence of a strong component of commuter traffic crossing the bridge.\n",
        "There is a directional component as well: according to the data, the east sidewalk is used more during the a.m. commute, and the west sidewalk is used more during the p.m. commute.\n",
        "\n",
        "We also might be curious about how things change based on the day of the week. Again, we can do this with a simple `groupby` (see the following figure):"
      ]
    },
    {
      "cell_type": "code",
      "execution_count": null,
      "metadata": {
        "jupyter": {
          "outputs_hidden": false
        },
        "id": "CAtbopokMgxR"
      },
      "outputs": [],
      "source": [
        "by_weekday = data.groupby(data.index.dayofweek).mean()\n",
        "by_weekday.index = ['Mon', 'Tues', 'Wed', 'Thurs', 'Fri', 'Sat', 'Sun']\n",
        "by_weekday.plot(style=['-', ':', '--']);"
      ]
    },
    {
      "cell_type": "markdown",
      "metadata": {
        "id": "10Gzi0EvMgxS"
      },
      "source": [
        "This shows a strong distinction between weekday and weekend totals, with around twice as many average riders crossing the bridge on Monday through Friday than on Saturday and Sunday.\n",
        "\n",
        "With this in mind, let's do a compound `groupby` and look at the hourly trends on weekdays versus weekends.\n",
        "We'll start by grouping by flags marking the weekend and the time of day:"
      ]
    },
    {
      "cell_type": "code",
      "execution_count": null,
      "metadata": {
        "jupyter": {
          "outputs_hidden": false
        },
        "id": "Q0pTcmMVMgxS"
      },
      "outputs": [],
      "source": [
        "weekend = np.where(data.index.weekday < 5, 'Weekday', 'Weekend')\n",
        "by_time = data.groupby([weekend, data.index.time]).mean()"
      ]
    },
    {
      "cell_type": "markdown",
      "metadata": {
        "id": "JW4UnTZRMgxS"
      },
      "source": [
        "Now we'll use some of the Matplotlib tools that will be described in [Multiple Subplots](04.08-Multiple-Subplots.ipynb) to plot two panels side by side, as shown in the following figure:"
      ]
    },
    {
      "cell_type": "code",
      "execution_count": null,
      "metadata": {
        "jupyter": {
          "outputs_hidden": false
        },
        "id": "-9skDRXIMgxS"
      },
      "outputs": [],
      "source": [
        "import matplotlib.pyplot as plt\n",
        "fig, ax = plt.subplots(1, 2, figsize=(14, 5))\n",
        "by_time.loc['Weekday'].plot(ax=ax[0], title='Weekdays',\n",
        "                            xticks=hourly_ticks, style=['-', ':', '--'])\n",
        "by_time.loc['Weekend'].plot(ax=ax[1], title='Weekends',\n",
        "                            xticks=hourly_ticks, style=['-', ':', '--']);"
      ]
    },
    {
      "cell_type": "markdown",
      "metadata": {
        "id": "tXDCkAmuMgxS"
      },
      "source": [
        "The result shows a bimodal commuting pattern during the work week, and a unimodal recreational pattern during the weekends.\n",
        "It might be interesting to dig through this data in more detail and examine the effects of weather, temperature, time of year, and other factors on people's commuting patterns; for further discussion, see my blog post [\"Is Seattle Really Seeing an Uptick in Cycling?\"](https://jakevdp.github.io/blog/2014/06/10/is-seattle-really-seeing-an-uptick-in-cycling/), which uses a subset of this data.\n",
        "We will also revisit this dataset in the context of modeling in [In Depth: Linear Regression](05.06-Linear-Regression.ipynb)."
      ]
    }
  ],
  "metadata": {
    "anaconda-cloud": {},
    "jupytext": {
      "formats": "ipynb,md"
    },
    "kernelspec": {
      "display_name": "Python 3.9.6 64-bit ('3.9.6')",
      "language": "python",
      "name": "python3"
    },
    "language_info": {
      "codemirror_mode": {
        "name": "ipython",
        "version": 3
      },
      "file_extension": ".py",
      "mimetype": "text/x-python",
      "name": "python",
      "nbconvert_exporter": "python",
      "pygments_lexer": "ipython3",
      "version": "3.9.6"
    },
    "vscode": {
      "interpreter": {
        "hash": "513788764cd0ec0f97313d5418a13e1ea666d16d72f976a8acadce25a5af2ffc"
      }
    },
    "colab": {
      "provenance": []
    }
  },
  "nbformat": 4,
  "nbformat_minor": 0
}